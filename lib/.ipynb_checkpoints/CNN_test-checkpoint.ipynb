{
 "cells": [
  {
   "cell_type": "code",
   "execution_count": null,
   "metadata": {
    "collapsed": true
   },
   "outputs": [],
   "source": [
    "import tensorflow as tf\n",
    "import matplotlib.pyplot as plt\n",
    "import numpy as np\n",
    "import sys,argparse\n",
    "import glob\n",
    "import os\n",
    "import cv2 \n",
    "#can be installed by running \"!pip install opencv-python\"\n",
    "#in current .ipynb\n",
    "import numpy as np\n",
    "import time\n",
    "import pandas as pd"
   ]
  },
  {
   "cell_type": "markdown",
   "metadata": {},
   "source": [
    "### Initialization"
   ]
  },
  {
   "cell_type": "code",
   "execution_count": 24,
   "metadata": {
    "collapsed": true
   },
   "outputs": [],
   "source": [
    "test_path = \"../data/training_set/testCNN/\"\n",
    "image_size=128\n",
    "num_channels=3\n",
    "num_classes = 3"
   ]
  },
  {
   "cell_type": "markdown",
   "metadata": {},
   "source": [
    "### Load Data"
   ]
  },
  {
   "cell_type": "code",
   "execution_count": 25,
   "metadata": {
    "collapsed": false
   },
   "outputs": [],
   "source": [
    "files = [test_path + f for f in os.listdir(test_path) if f.endswith('.jpg')]\n",
    "images = []\n",
    "for fl in files:\n",
    "    image = cv2.imread(fl)\n",
    "    image = cv2.resize(image, (image_size, image_size),0,0, cv2.INTER_LINEAR)\n",
    "    image = image.astype(np.float32)\n",
    "    image = np.multiply(image, 1.0 / 255.0)\n",
    "    images.append(image)\n",
    "    \n",
    "images = np.array(images)"
   ]
  },
  {
   "cell_type": "markdown",
   "metadata": {},
   "source": [
    "### Testing on given dataset"
   ]
  },
  {
   "cell_type": "markdown",
   "metadata": {},
   "source": [
    "label (0 for muffin, 1 for chicken, 2 for dog)"
   ]
  },
  {
   "cell_type": "code",
   "execution_count": 28,
   "metadata": {
    "collapsed": false
   },
   "outputs": [
    {
     "name": "stdout",
     "output_type": "stream",
     "text": [
      "INFO:tensorflow:Restoring parameters from ./where_are_my_puppies\n",
      "[[  9.86536860e-01   1.30485417e-02   4.14503447e-04]]\n",
      "[[ 0.00105134  0.24201697  0.75693172]]\n",
      "[[  9.78531599e-01   2.08084751e-02   6.59934885e-04]]\n",
      "[[  9.96669948e-01   3.20495758e-03   1.25079809e-04]]\n",
      "[[ 0.09840336  0.00486766  0.89672893]]\n",
      "[[ 0.93792081  0.05705402  0.00502508]]\n",
      "[[ 0.02139806  0.28000402  0.69859791]]\n",
      "[[ 0.63891846  0.34793699  0.01314447]]\n",
      "[[ 0.24868046  0.05862347  0.69269609]]\n",
      "[[ 0.01859945  0.04304639  0.93835413]]\n"
     ]
    }
   ],
   "source": [
    "saver = tf.train.import_meta_graph('where_are_my_puppies.meta')\n",
    "sess = tf.Session()\n",
    "saver.restore(sess, \"./where_are_my_puppies\")\n",
    "graph = tf.get_default_graph()\n",
    "\n",
    "y_pred = graph.get_tensor_by_name(\"y_pred:0\")\n",
    "y_pred_cls = tf.argmax(y_pred, axis=1)\n",
    "x= graph.get_tensor_by_name(\"x:0\") \n",
    "y_true = graph.get_tensor_by_name(\"y_true:0\") \n",
    "\n",
    "results = []\n",
    "for image in images:\n",
    "    x_batch = image.reshape(1, image_size,image_size,num_channels)\n",
    "    y_test_images = np.zeros((1, num_classes)) \n",
    "    feed_dict_testing = {x: x_batch, y_true: y_test_images}\n",
    "    result=sess.run(y_pred, feed_dict=feed_dict_testing)\n",
    "    results.append(result)\n",
    "    "
   ]
  },
  {
   "cell_type": "code",
   "execution_count": 36,
   "metadata": {
    "collapsed": false
   },
   "outputs": [],
   "source": [
    "df = pd.DataFrame(np.resize(np.asarray(results), (3000,3)))\n",
    "df.to_csv(\"../data/feature_CNN.csv\")"
   ]
  },
  {
   "cell_type": "code",
   "execution_count": null,
   "metadata": {
    "collapsed": true
   },
   "outputs": [],
   "source": []
  }
 ],
 "metadata": {
  "kernelspec": {
   "display_name": "Python [Root]",
   "language": "python",
   "name": "Python [Root]"
  },
  "language_info": {
   "codemirror_mode": {
    "name": "ipython",
    "version": 2
   },
   "file_extension": ".py",
   "mimetype": "text/x-python",
   "name": "python",
   "nbconvert_exporter": "python",
   "pygments_lexer": "ipython2",
   "version": "2.7.12"
  }
 },
 "nbformat": 4,
 "nbformat_minor": 0
}
