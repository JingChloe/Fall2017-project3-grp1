{
 "cells": [
  {
   "cell_type": "code",
   "execution_count": 1,
   "metadata": {
    "collapsed": true
   },
   "outputs": [],
   "source": [
    "import tensorflow as tf\n",
    "import matplotlib.pyplot as plt\n",
    "import numpy as np\n",
    "import sys,argparse\n",
    "import glob\n",
    "import os\n",
    "import cv2 \n",
    "#can be installed by running \"!pip install opencv-python\"\n",
    "#in current .ipynb\n",
    "import numpy as np\n",
    "import time\n",
    "import pandas as pd"
   ]
  },
  {
   "cell_type": "markdown",
   "metadata": {},
   "source": [
    "### Initialization"
   ]
  },
  {
   "cell_type": "code",
   "execution_count": 7,
   "metadata": {
    "collapsed": true
   },
   "outputs": [],
   "source": [
    "#test_path = \"../data/training_set/train/\"\n",
    "test_path = \"/Users/laohuang/Downloads/test_set/images/\"\n",
    "image_size=128\n",
    "num_channels=3\n",
    "num_classes = 3"
   ]
  },
  {
   "cell_type": "markdown",
   "metadata": {},
   "source": [
    "### Load Data"
   ]
  },
  {
   "cell_type": "code",
   "execution_count": 10,
   "metadata": {
    "collapsed": false
   },
   "outputs": [],
   "source": [
    "files = [test_path + f for f in os.listdir(test_path) if f.endswith('.jpg')]\n",
    "images = []\n",
    "i = 0\n",
    "for fl in files:\n",
    "    i += 1\n",
    "    #if i > 300: break\n",
    "    image = cv2.imread(fl)\n",
    "    image = cv2.resize(image, (image_size, image_size),0,0, cv2.INTER_LINEAR)\n",
    "    image = image.astype(np.float32)\n",
    "    image = np.multiply(image, 1.0 / 255.0)\n",
    "    \n",
    "    images.append(image)\n",
    "    \n",
    "images = np.array(images)"
   ]
  },
  {
   "cell_type": "markdown",
   "metadata": {},
   "source": [
    "#### notation generating flip & rotation photos"
   ]
  },
  {
   "cell_type": "code",
   "execution_count": null,
   "metadata": {
    "collapsed": false
   },
   "outputs": [],
   "source": [
    "#flip\n",
    "image_flip = cv2.flip(image,1)\n",
    "images.append(image_flip)\n",
    "add = fl[:21]+'test'+fl[26:-4]+'_flip.jpg'\n",
    "cv2.imwrite(add, np.multiply(image_flip, 255.0))\n",
    "\n",
    "\n",
    "#rotate by -15 ~ +15 degree\n",
    "Left = np.random.uniform(-15, 15)\n",
    "rows, cols, color = image.shape\n",
    "M = cv2.getRotationMatrix2D((cols/2, rows/2), Left, 1)\n",
    "image_rotate = cv2.warpAffine(image, M, (cols, rows))\n",
    "images.append(image_rotate)\n",
    "add = fl[:21]+'test'+fl[26:-4]+'_rotate.jpg'\n",
    "cv2.imwrite(add, np.multiply(image_rotate, 255.0))"
   ]
  },
  {
   "cell_type": "markdown",
   "metadata": {},
   "source": [
    "### Testing on given dataset"
   ]
  },
  {
   "cell_type": "markdown",
   "metadata": {},
   "source": [
    "label (0 for muffin, 1 for chicken, 2 for dog)"
   ]
  },
  {
   "cell_type": "code",
   "execution_count": 24,
   "metadata": {
    "collapsed": false
   },
   "outputs": [
    {
     "name": "stdout",
     "output_type": "stream",
     "text": [
      "INFO:tensorflow:Restoring parameters from ./where_are_my_puppies_test00001\n",
      "200\n",
      "400\n",
      "600\n",
      "800\n",
      "1000\n",
      "1200\n",
      "1400\n",
      "1600\n",
      "1800\n",
      "2000\n",
      "2200\n",
      "2400\n",
      "2600\n",
      "2800\n",
      "3000\n"
     ]
    }
   ],
   "source": [
    "saver = tf.train.import_meta_graph('where_are_my_puppies_test00001.meta')\n",
    "sess = tf.Session()\n",
    "saver.restore(sess, \"./where_are_my_puppies_test00001\")\n",
    "graph = tf.get_default_graph()\n",
    "\n",
    "y_pred = graph.get_tensor_by_name(\"y_pred:0\")\n",
    "y_pred_cls = tf.argmax(y_pred, axis=1)\n",
    "x= graph.get_tensor_by_name(\"x:0\") \n",
    "y_true = graph.get_tensor_by_name(\"y_true:0\") \n",
    "#layer_fc2 = graph.get_tensor_by_name(\"layer_fc1:0\")\n",
    "\n",
    "results = []\n",
    "i = 0\n",
    "for image in images:\n",
    "    i+=1\n",
    "    if i%200 == 0: print(i)\n",
    "    x_batch = image.reshape(1, image_size,image_size,num_channels)\n",
    "    y_test_images = np.zeros((1, num_classes)) \n",
    "    feed_dict_testing = {x: x_batch, y_true: y_test_images}\n",
    "    result=sess.run(y_pred, feed_dict=feed_dict_testing)\n",
    "    results.append(result)\n",
    "    "
   ]
  },
  {
   "cell_type": "code",
   "execution_count": 29,
   "metadata": {
    "collapsed": false
   },
   "outputs": [
    {
     "data": {
      "text/plain": [
       "array([[ 0.17322706,  0.05410445,  0.77266848],\n",
       "       [ 0.03642465,  0.94940698,  0.01416836],\n",
       "       [ 0.03012738,  0.92978597,  0.04008662],\n",
       "       ..., \n",
       "       [ 0.83315682,  0.14049551,  0.02634763],\n",
       "       [ 0.10529498,  0.85852408,  0.03618099],\n",
       "       [ 0.06085173,  0.92719024,  0.01195812]], dtype=float32)"
      ]
     },
     "execution_count": 29,
     "metadata": {},
     "output_type": "execute_result"
    }
   ],
   "source": [
    "np.resize(np.asarray(results), (len(files),3))"
   ]
  },
  {
   "cell_type": "code",
   "execution_count": 30,
   "metadata": {
    "collapsed": false
   },
   "outputs": [],
   "source": [
    "df = pd.DataFrame(np.resize(np.asarray(results), (len(files),3)))\n",
    "df.to_csv(\"../output/final_feature_CNN.csv\")"
   ]
  },
  {
   "cell_type": "code",
   "execution_count": null,
   "metadata": {
    "collapsed": true
   },
   "outputs": [],
   "source": []
  }
 ],
 "metadata": {
  "anaconda-cloud": {},
  "kernelspec": {
   "display_name": "Python [Root]",
   "language": "python",
   "name": "Python [Root]"
  },
  "language_info": {
   "codemirror_mode": {
    "name": "ipython",
    "version": 2
   },
   "file_extension": ".py",
   "mimetype": "text/x-python",
   "name": "python",
   "nbconvert_exporter": "python",
   "pygments_lexer": "ipython2",
   "version": "2.7.12"
  }
 },
 "nbformat": 4,
 "nbformat_minor": 0
}
